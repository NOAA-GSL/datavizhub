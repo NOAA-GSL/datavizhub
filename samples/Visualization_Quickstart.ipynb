{
 "cells": [
  {
   "cell_type": "markdown",
   "metadata": {},
   "source": [
    "# DataVizHub Visualization Quickstart\n",
    "\n",
    "This notebook demonstrates basic static, vector, particle, animation (frames), and interactive outputs using small in-repo samples.\n",
    "\n",
    "Requirements:\n",
    "- Static/animation: `pip install -e .[visualization]`\n",
    "- Interactive (optional): `pip install -e .[interactive]`\n"
   ]
  },
  {
   "cell_type": "code",
   "execution_count": null,
   "metadata": {},
   "outputs": [],
   "source": [
    "from datavizhub.visualization import HeatmapManager, ContourManager, VectorFieldManager, VectorParticlesManager, AnimateManager\n",
    "from importlib.resources import files, as_file\n",
    "from pathlib import Path\n",
    "import numpy as np\n",
    "\n",
    "out_dir = Path('samples/quickstart_outputs')\n",
    "out_dir.mkdir(parents=True, exist_ok=True)\n",
    "\n",
    "# Small demo arrays\n",
    "arr = np.random.rand(10, 20).astype('float32')\n",
    "ny, nx = 10, 20\n",
    "U = np.ones((ny, nx), dtype='float32') * 0.5\n",
    "V = np.zeros((ny, nx), dtype='float32')\n",
    "\n",
    "extent = [-180, 180, -90, 90]\n"
   ]
  },
  {
   "cell_type": "markdown",
   "metadata": {},
   "source": [
    "## Heatmap (static)"
   ]
  },
  {
   "cell_type": "code",
   "execution_count": null,
   "metadata": {},
   "outputs": [],
   "source": [
    "hm = HeatmapManager(extent=extent)\n",
    "hm.render(arr, width=400, height=200, dpi=100, colorbar=True, label='Value', units='arb')\n",
    "heatmap_path = str(out_dir / 'heatmap.png')\n",
    "hm.save(heatmap_path)\n",
    "heatmap_path"
   ]
  },
  {
   "cell_type": "markdown",
   "metadata": {},
   "source": [
    "## Contour (static)"
   ]
  },
  {
   "cell_type": "code",
   "execution_count": null,
   "metadata": {},
   "outputs": [],
   "source": [
    "cm = ContourManager(extent=extent, filled=True)\n",
    "cm.render(arr, width=400, height=200, dpi=100, levels=8, colorbar=True)\n",
    "contour_path = str(out_dir / 'contour.png')\n",
    "cm.save(contour_path)\n",
    "contour_path"
   ]
  },
  {
   "cell_type": "markdown",
   "metadata": {},
   "source": [
    "## Vector field (static quiver)"
   ]
  },
  {
   "cell_type": "code",
   "execution_count": null,
   "metadata": {},
   "outputs": [],
   "source": [
    "vf = VectorFieldManager(extent=extent, density=0.3)\n",
    "vf.render(u=U, v=V, width=400, height=200, dpi=100)\n",
    "vector_path = str(out_dir / 'vector.png')\n",
    "vf.save(vector_path)\n",
    "vector_path"
   ]
  },
  {
   "cell_type": "markdown",
   "metadata": {},
   "source": [
    "## Particles (frames)"
   ]
  },
  {
   "cell_type": "code",
   "execution_count": null,
   "metadata": {},
   "outputs": [],
   "source": [
    "# Build a tiny 3-frame stack by repeating vectors (for demo)\n",
    "t = 3\n",
    "U3 = np.repeat(U[None, ...], t, axis=0)\n",
    "V3 = np.repeat(V[None, ...], t, axis=0)\n",
    "np.save(out_dir / 'u_stack.npy', U3)\n",
    "np.save(out_dir / 'v_stack.npy', V3)\n",
    "\n",
    "vp = VectorParticlesManager(extent=extent)\n",
    "vp.render(u=U3[0], v=V3[0], width=400, height=200, dpi=100, output_dir=str(out_dir / 'frames_particles'), particles=50)\n",
    "manifest_path = vp.save(str(out_dir / 'frames_particles' / 'manifest.json'))\n",
    "manifest_path"
   ]
  },
  {
   "cell_type": "markdown",
   "metadata": {},
   "source": [
    "## Animate heatmap (frames)"
   ]
  },
  {
   "cell_type": "code",
   "execution_count": null,
   "metadata": {},
   "outputs": [],
   "source": [
    "stack = np.stack([arr, np.roll(arr, 1, axis=1), np.roll(arr, 2, axis=1)], axis=0)\n",
    "np.save(out_dir / 'stack.npy', stack)\n",
    "anim = AnimateManager(mode='heatmap', extent=extent, output_dir=str(out_dir / 'frames_heatmap'))\n",
    "anim.render(input_path=str(out_dir / 'stack.npy'), cmap='YlOrBr', colorbar=True)\n",
    "anim_manifest = anim.save(str(out_dir / 'frames_heatmap' / 'manifest.json'))\n",
    "anim_manifest"
   ]
  },
  {
   "cell_type": "markdown",
   "metadata": {},
   "source": [
    "## Interactive (optional)"
   ]
  },
  {
   "cell_type": "code",
   "execution_count": null,
   "metadata": {},
   "outputs": [],
   "source": [
    "try:\n",
    "    from datavizhub.visualization import InteractiveManager\n",
    "    im = InteractiveManager(engine='folium', extent=extent)\n",
    "    html = im.render(data=arr, mode='heatmap', cmap='YlOrBr', colorbar=True)\n",
    "    inter_path = str(out_dir / 'interactive_heatmap.html')\n",
    "    im.save(inter_path)\n",
    "    inter_path\n",
    "except Exception as e:\n",
    "    print('Interactive extras not installed or failed:', e)\n"
   ]
  }
 ],
 "metadata": {
  "kernelspec": {
   "display_name": "Python 3",
   "language": "python",
   "name": "python3"
  },
  "language_info": {
   "name": "python",
   "version": "3.10"
  }
 },
 "nbformat": 4,
 "nbformat_minor": 5
}
